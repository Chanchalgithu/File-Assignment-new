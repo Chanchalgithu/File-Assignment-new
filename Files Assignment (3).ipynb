{
 "cells": [
  {
   "cell_type": "markdown",
   "id": "dfe99695-b1a8-4291-a59b-31f345e895fb",
   "metadata": {},
   "source": [
    "# Files, exceptional handling, logging and memory management"
   ]
  },
  {
   "cell_type": "markdown",
   "id": "1d933407-6d0e-4e09-8860-78a48e752028",
   "metadata": {},
   "source": [
    "# Assignment Q/A"
   ]
  },
  {
   "cell_type": "markdown",
   "id": "8d6cf803-6c20-46b3-82d1-13c36384d551",
   "metadata": {},
   "source": [
    "# 1. What is the difference between interpreted and compiled languages ?\n"
   ]
  },
  {
   "cell_type": "markdown",
   "id": "764cefe6-b5ac-490e-8fda-0d9596853531",
   "metadata": {},
   "source": [
    "| Feature                 | **Compiled Languages**                         | **Interpreted Languages**                 |\n",
    "| ----------------------- | ---------------------------------------------- | ----------------------------------------- |\n",
    "|   Execution             | Translated into machine code before execution  | Translated line-by-line during execution  |\n",
    "|   Speed                 | Generally faster (executed directly by CPU)    | Generally slower (interpreted at runtime) |\n",
    "|   Compilation Step      | Requires a separate compilation step           | No separate compilation; run directly     |\n",
    "|   Output                | Produces an independent executable file        | No standalone executable produced         |\n",
    "|  Error Detection        | Errors found at compile time                   | Errors found at runtime                   |\n",
    "|   Platform Dependency   | Platform-specific (needs recompilation per OS) | More portable (requires interpreter only) |\n",
    "|   Examples              | C, C++, Rust, Go                               | Python, JavaScript, Ruby, PHP             |\n"
   ]
  },
  {
   "cell_type": "markdown",
   "id": "1bfe9c80-8bcb-46b7-b703-b90b282b4159",
   "metadata": {},
   "source": [
    "# 2. What is exception handling in Python ?\n",
    "Exception handling in Python is a way to manage errors in your code using try, except, and finally blocks so the program doesn’t crash when something goes wrong."
   ]
  },
  {
   "cell_type": "markdown",
   "id": "41f812b9-f8d0-457a-897c-ddef815e5b1a",
   "metadata": {},
   "source": [
    "# 3. What is the purpose of the finally block in exception handling ?\n",
    "The finally block is used to run code no matter what, whether an error occurred or not—usually for cleanup like closing files or releasing resources."
   ]
  },
  {
   "cell_type": "markdown",
   "id": "d111430b-746f-43c5-b260-adc74ae97a01",
   "metadata": {},
   "source": [
    "# 4. What is logging in Python ?\n",
    "Logging in Python means recording messages to help track what your program is doing, especially for debugging or finding errors."
   ]
  },
  {
   "cell_type": "markdown",
   "id": "879482f9-209f-4fa7-902f-71ea7bf1b3fe",
   "metadata": {},
   "source": [
    "# 5.  What is the significance of the __ del __ method in Python ?\n",
    "The __ del __ method in Python is called when an object is deleted. It’s used to clean up resources like closing files or releasing memory before the object is removed."
   ]
  },
  {
   "cell_type": "markdown",
   "id": "359bf8ac-dac8-495e-a919-76958a8e1998",
   "metadata": {},
   "source": [
    "# 6.  What is the difference between import and from ... import in Python ?"
   ]
  },
  {
   "cell_type": "markdown",
   "id": "68f6508f-42ca-4952-99da-9842b33eda2b",
   "metadata": {},
   "source": [
    "1. import\n",
    "\n",
    "You import the whole module.\n",
    "\n",
    "You have to use the module name to access things inside it.\n",
    "\n",
    "    Example:"
   ]
  },
  {
   "cell_type": "code",
   "execution_count": 22,
   "id": "fd82b029-b9c5-407b-b040-e959c32d043b",
   "metadata": {},
   "outputs": [
    {
     "name": "stdout",
     "output_type": "stream",
     "text": [
      "4.0\n"
     ]
    }
   ],
   "source": [
    "\n",
    "import math\n",
    "print(math.sqrt(16))  # You use math.sqrt\n"
   ]
  },
  {
   "cell_type": "markdown",
   "id": "5e9eb703-cf56-4609-9067-83c7ee530576",
   "metadata": {},
   "source": [
    "2. from ... import\n",
    "\n",
    "You import specific parts (like a function or variable) from the module.\n",
    "\n",
    "You don’t need the module name to use it.\n",
    "\n",
    "Example:"
   ]
  },
  {
   "cell_type": "code",
   "execution_count": 25,
   "id": "8ba02b76-d10f-413c-8605-d3952907274a",
   "metadata": {},
   "outputs": [
    {
     "name": "stdout",
     "output_type": "stream",
     "text": [
      "4.0\n"
     ]
    }
   ],
   "source": [
    "\n",
    "from math import sqrt\n",
    "print(sqrt(16))  # You use sqrt directly\n",
    "                                                                                                                                      "
   ]
  },
  {
   "cell_type": "markdown",
   "id": "41fc75ad-eed6-43ab-9249-8bf11cce75e5",
   "metadata": {},
   "source": [
    "# 7. How can you handle multiple exceptions in Python ?\n",
    "You can handle multiple exceptions in Python using a tuple in a single except block:"
   ]
  },
  {
   "cell_type": "code",
   "execution_count": null,
   "id": "2fc18583-f27f-4bc6-9709-992782a9f80e",
   "metadata": {},
   "outputs": [],
   "source": [
    "try:\n",
    "    # some code\n",
    "except (TypeError, ValueError):\n",
    "    print(\"Caught a TypeError or ValueError\")\n"
   ]
  },
  {
   "cell_type": "markdown",
   "id": "bd979d05-adc4-4a99-9736-a0fb20845411",
   "metadata": {},
   "source": [
    "Or use multiple except blocks:"
   ]
  },
  {
   "cell_type": "code",
   "execution_count": null,
   "id": "766ca89e-1963-4e9d-85f9-b0f42008cab1",
   "metadata": {},
   "outputs": [],
   "source": [
    "try:\n",
    "    # some code\n",
    "except TypeError:\n",
    "    print(\"Caught a TypeError\")\n",
    "except ValueError:\n",
    "    print(\"Caught a ValueError\")\n"
   ]
  },
  {
   "cell_type": "markdown",
   "id": "04f776f1-95cd-447f-9eca-fbf4bc103687",
   "metadata": {},
   "source": [
    "# 8. What is the purpose of the with statement when handling files in Python ?\n",
    "The with statement is used to open files safely. It automatically closes the file after you're done, even if an error happens.\n",
    "\n",
    "Example:"
   ]
  },
  {
   "cell_type": "code",
   "execution_count": null,
   "id": "31d6e893-a7ab-4365-863e-ec3fc99667a9",
   "metadata": {},
   "outputs": [],
   "source": [
    "with open(\"file.txt\", \"r\") as f:\n",
    "    content = f.read()\n"
   ]
  },
  {
   "cell_type": "markdown",
   "id": "1bc3b9db-231a-488f-bbbd-98916816604a",
   "metadata": {},
   "source": [
    "No need to write f.close()."
   ]
  },
  {
   "cell_type": "markdown",
   "id": "283d69aa-b693-42bb-99bb-9a2ba40b037e",
   "metadata": {},
   "source": [
    "# 9. What is the difference between multithreading and multiprocessing ?\n",
    "\n",
    "Multithreading runs multiple tasks (threads) in the same process, sharing memory.\n",
    "\n",
    "Multiprocessing runs tasks in separate processes, each with its own memory.\n",
    "\n",
    "Simple:\n",
    "\n",
    "  Multithreading = faster, shares memory, good for I/O tasks.\n",
    "\n",
    "  Multiprocessing = safer, separate memory, good for CPU tasks."
   ]
  },
  {
   "cell_type": "markdown",
   "id": "f65aa45c-918a-44b8-a68d-e345448c0b94",
   "metadata": {},
   "source": [
    "# 10.  What are the advantages of using logging in a program ?\n",
    "\n",
    "Using logging in a program helps you:\n",
    "\n",
    "1. Track errors without stopping the program.\n",
    "\n",
    "2. Understand what the program is doing step by step.\n",
    "\n",
    "3. Save messages to a file for later review.\n",
    "\n",
    "4. Control message levels (info, warning, error, etc.).\n",
    "\n",
    "It’s better than using print( ) for debugging."
   ]
  },
  {
   "cell_type": "markdown",
   "id": "2c30f9f0-d2e1-4706-922e-39e1b14910ca",
   "metadata": {},
   "source": [
    "# 11. What is memory management in Python ?\n",
    "Memory management in Python means how Python handles and organizes memory for your program.\n",
    "\n",
    "Simple answer:\n",
    "\n",
    "Python automatically gives and frees memory using a built-in garbage collector, so you don’t have to do it yourself.\n"
   ]
  },
  {
   "cell_type": "markdown",
   "id": "5ede3844-0b03-4666-82b5-fd2cec697587",
   "metadata": {},
   "source": [
    "# 12. What are the basic steps involved in exception handling in Python ?\n",
    "\n",
    "Basic steps in exception handling in Python:\n",
    "\n",
    "1. Try:  Write code that might cause an error.\n",
    "\n",
    "2. Except:  Catch and handle the error.\n",
    "\n",
    "3. (Optional) Else:  Run if no error happens.\n",
    "\n",
    "4. (Optional) Finally:  Always runs, error or not.\n",
    "\n",
    "Example:"
   ]
  },
  {
   "cell_type": "code",
   "execution_count": null,
   "id": "3556339f-651c-49cd-999d-ae0494a4f2e0",
   "metadata": {},
   "outputs": [],
   "source": [
    "try:\n",
    "    x = 10 / 0\n",
    "except ZeroDivisionError:\n",
    "    print(\"Can't divide by zero\")\n"
   ]
  },
  {
   "cell_type": "markdown",
   "id": "a01e017f-dc71-4586-9106-f677284dcaf5",
   "metadata": {},
   "source": [
    "# 13. Why is memory management important in Python ?\n",
    "Memory management is important in Python to make sure the program runs fast and doesn’t crash by using too much memory.\n",
    "\n",
    "It helps keep your computer’s resources used efficiently.\n"
   ]
  },
  {
   "cell_type": "markdown",
   "id": "37704cf4-ea25-44e4-a663-201a2768cd19",
   "metadata": {},
   "source": [
    "# 14.  What is the role of try and except in exception handling ?\n",
    "The try block lets you write code that might cause an error.\n",
    "The except block catches and handles the error so the program doesn’t crash.\n",
    "\n",
    "Example:"
   ]
  },
  {
   "cell_type": "code",
   "execution_count": null,
   "id": "842251e3-53d7-4e32-b1ee-d359b57e76a7",
   "metadata": {},
   "outputs": [],
   "source": [
    "try:\n",
    "    x = 10 / 0\n",
    "except ZeroDivisionError:\n",
    "    print(\"You can't divide by zero\")\n"
   ]
  },
  {
   "cell_type": "markdown",
   "id": "50645a12-79eb-4bd8-8201-13348a93ff2c",
   "metadata": {},
   "source": [
    "# 15. How does Python's garbage collection system work ?\n",
    "Python’s garbage collection system automatically removes unused objects from memory to free up space.\n",
    "\n",
    "It uses reference counting and a garbage collector to find and delete objects that are no longer needed."
   ]
  },
  {
   "cell_type": "markdown",
   "id": "9194232b-220d-4839-be39-78f2f1f80246",
   "metadata": {},
   "source": [
    "# 16. What is the purpose of the else block in exception handling ?\n",
    "The else block runs only if no error happens in the try block.\n",
    "\n",
    "It’s used for code that should run only when everything goes right.\n",
    "\n",
    "Example:"
   ]
  },
  {
   "cell_type": "code",
   "execution_count": null,
   "id": "bf9354e1-3869-4b1e-af9f-1441d3f8c312",
   "metadata": {},
   "outputs": [],
   "source": [
    "try:\n",
    "    x = 5 / 1\n",
    "except ZeroDivisionError:\n",
    "    print(\"Error\")\n",
    "else:\n",
    "    print(\"No error, all good\")\n"
   ]
  },
  {
   "cell_type": "markdown",
   "id": "47599072-0b16-4689-aadb-84421e5da741",
   "metadata": {},
   "source": [
    "# 17. What are the common logging levels in Python ?\n",
    "The common logging levels in Python (from lowest to highest) are:\n",
    "\n",
    "1. DEBUG – Detailed info, for debugging\n",
    "\n",
    "2. INFO – General info about program\n",
    "\n",
    "3. WARNING – Something might be wrong\n",
    "\n",
    "4. ERROR – A serious problem occurred\n",
    "\n",
    "5. CRITICAL – Very serious error, program may stop"
   ]
  },
  {
   "cell_type": "markdown",
   "id": "351f0f53-4ee0-4d60-ae94-ffd14ab1eeac",
   "metadata": {},
   "source": [
    "# 18. What is the difference between os.fork() and multiprocessing in Python ?\n",
    "\n",
    "Simple difference:\n",
    "\n",
    "os.fork():\n",
    "\n",
    "  - Creates a new process by copying the current one.\n",
    "\n",
    "  - Works only on Unix/Linux.\n",
    "\n",
    "  - Harder to use and manage.\n",
    "\n",
    "multiprocessing:\n",
    "\n",
    "  - A built-in Python module to create new processes.\n",
    "\n",
    "  - Works on all systems (Windows, Mac, Linux).\n",
    "\n",
    "  - Easier and safer to use."
   ]
  },
  {
   "cell_type": "markdown",
   "id": "78350fc5-5162-4f85-b861-b31ddde2edc3",
   "metadata": {},
   "source": [
    "# 19.  What is the importance of closing a file in Python ?\n",
    "Closing a file in Python is important because it:\n",
    "\n",
    "1. Saves data properly to the file.\n",
    "\n",
    "2. Frees up system resources.\n",
    "\n",
    "3. Prevents errors or data loss.\n",
    "\n",
    "Using with open(...) closes the file automatically."
   ]
  },
  {
   "cell_type": "markdown",
   "id": "f8c10e56-2439-48a5-8722-447adcd5098d",
   "metadata": {},
   "source": [
    "# 20. What is the difference between file.read() and file.readline() in Python ?\n",
    "file.read() reads the entire file as a single string.\n",
    "\n",
    "file.readline() reads one line at a time from the file.\n",
    "\n",
    "Example:"
   ]
  },
  {
   "cell_type": "code",
   "execution_count": null,
   "id": "08b2f62b-1bff-4f86-8301-995153dd6b90",
   "metadata": {},
   "outputs": [],
   "source": [
    "with open(\"file.txt\") as file:\n",
    "    content = file.read()       # Reads whole file\n",
    "    line = file.readline()      # Reads only the first line\n"
   ]
  },
  {
   "cell_type": "markdown",
   "id": "055309a6-9754-424b-a157-7ee80256f3f7",
   "metadata": {},
   "source": [
    "# 21. What is the logging module in Python used for ?\n",
    "The logging module in Python is used to record messages (like errors, warnings, or other information) while a program runs, so you can track what your code is doing and find bugs more easily.\n",
    "\n",
    "Example:"
   ]
  },
  {
   "cell_type": "code",
   "execution_count": null,
   "id": "eb25cd1f-ae65-45cb-bb27-7d3c161999ff",
   "metadata": {},
   "outputs": [],
   "source": [
    "import logging\n",
    "\n",
    "logging.basicConfig(level=logging.INFO)\n",
    "logging.info(\"This is an info message.\")\n"
   ]
  },
  {
   "cell_type": "markdown",
   "id": "851d9e78-8117-4538-9675-b29ad8dea091",
   "metadata": {},
   "source": [
    "# 22. What is the os module in Python used for in file handling ?\n",
    "The os module in Python is used in file handling to interact with the operating system, like:\n",
    "\n",
    "  - Checking if a file or folder exists\n",
    "\n",
    "  - Creating or deleting files and folders\n",
    "\n",
    "  - Getting file paths\n",
    "\n",
    "  - Renaming or moving files\n",
    "\n",
    "Example:"
   ]
  },
  {
   "cell_type": "code",
   "execution_count": null,
   "id": "0737409a-3854-4403-a824-02a6bcc21c4c",
   "metadata": {},
   "outputs": [],
   "source": [
    "import os\n",
    "\n",
    "if os.path.exists(\"example.txt\"):\n",
    "    os.remove(\"example.txt\")  # Deletes the file\n"
   ]
  },
  {
   "cell_type": "markdown",
   "id": "945ee4a0-01d5-4605-8ee1-2e5823a44834",
   "metadata": {},
   "source": [
    "# 23. What are the challenges associated with memory management in Python ?\n",
    "Here are some common challenges with memory management in Python:\n",
    "\n",
    " 1. Memory leaks – Caused by unused objects not being garbage collected (e.g. circular references).\n",
    "\n",
    " 2. High memory usage – Large data structures or inefficient code can use more memory than needed.\n",
    "\n",
    " 3. Garbage collection delays – Python's garbage collector may not free memory immediately.\n",
    "\n",
    " 4. Object reference cycles – When objects refer to each other, Python’s reference counting can’t handle it alone.\n",
    "\n",
    " 5. Global variables – They stay in memory longer than needed if not used carefully."
   ]
  },
  {
   "cell_type": "markdown",
   "id": "031ce9b4-8684-4e53-9bf2-5b4b3956ba53",
   "metadata": {},
   "source": [
    "# 24. How do you raise an exception manually in Python ?\n",
    "You can raise an exception manually in Python using the raise keyword.\n",
    "\n",
    "Example:"
   ]
  },
  {
   "cell_type": "code",
   "execution_count": null,
   "id": "208ce155-375a-40e9-9fd0-0ae84ca5b35a",
   "metadata": {},
   "outputs": [],
   "source": [
    "raise ValueError(\"This is a custom error message.\")\n"
   ]
  },
  {
   "cell_type": "markdown",
   "id": "77a5debf-1589-4f07-8df2-2ae6f75ca1c6",
   "metadata": {},
   "source": [
    "This stops the program and shows the error message unless handled with try-except."
   ]
  },
  {
   "cell_type": "markdown",
   "id": "bab60207-1f3d-4e2c-9f85-34895f7e9662",
   "metadata": {},
   "source": [
    "# 25. Why is it important to use multithreading in certain applications ?\n",
    "Multithreading is important in some applications because it lets a program do multiple tasks at the same time, which can make it faster and more responsive, especially for:\n",
    "\n",
    "  - Handling many users (like in web servers)\n",
    "\n",
    "  - Running tasks while waiting (like downloading files)\n",
    "\n",
    "  - Improving performance on multi-core CPUs"
   ]
  },
  {
   "cell_type": "markdown",
   "id": "b6535989-3f65-4230-a3e6-687d0cd40e58",
   "metadata": {},
   "source": [
    "# Practical Questions"
   ]
  },
  {
   "cell_type": "code",
   "execution_count": 152,
   "id": "a1d0d0e4-a21f-47f1-b2ed-3f7e5d47d2a4",
   "metadata": {},
   "outputs": [
    {
     "name": "stdout",
     "output_type": "stream",
     "text": [
      "Hello, this is a test.\n"
     ]
    }
   ],
   "source": [
    "# 1.  How can you open a file for writing in Python and write a string to it ?\n",
    "\n",
    "# Open the file in write mode and write a string to it\n",
    "with open(\"example.txt\", \"w\") as file:\n",
    "    file.write(\"Hello, this is a test.\")\n",
    "    \n",
    "# Read the file to verify the contents\n",
    "with open(\"example.txt\", \"r\") as file:\n",
    "    contents = file.read()\n",
    "    print(contents)"
   ]
  },
  {
   "cell_type": "code",
   "execution_count": 154,
   "id": "62a40c12-f95f-4335-8333-32a4997b636f",
   "metadata": {},
   "outputs": [
    {
     "name": "stdout",
     "output_type": "stream",
     "text": [
      "Hello, this is a test.\n"
     ]
    }
   ],
   "source": [
    "# 2.  Write a Python program to read the contents of a file and print each line ?\n",
    "\n",
    "# Open the file in read mode\n",
    "with open(\"example.txt\", \"r\") as file:\n",
    "    for line in file:\n",
    "        print(line.strip())  # .strip() removes the newline character\n"
   ]
  },
  {
   "cell_type": "code",
   "execution_count": 156,
   "id": "a021c3c1-d110-4fa8-ab44-3a5236d7209a",
   "metadata": {},
   "outputs": [
    {
     "name": "stdout",
     "output_type": "stream",
     "text": [
      "Hello, this is a test.\n"
     ]
    }
   ],
   "source": [
    "# 3.  How would you handle a case where the file doesn't exist while trying to open it for reading\n",
    "\n",
    "try:\n",
    "    with open(\"example.txt\", \"r\") as file:\n",
    "        print(file.read())\n",
    "except FileNotFoundError:\n",
    "    print(\"The file does not exist.\")\n"
   ]
  },
  {
   "cell_type": "code",
   "execution_count": 158,
   "id": "f3d47003-9b59-4ae4-afca-9b84b0f4da8a",
   "metadata": {},
   "outputs": [
    {
     "name": "stdout",
     "output_type": "stream",
     "text": [
      "The source file does not exist.\n"
     ]
    }
   ],
   "source": [
    "# 4.  Write a Python script that reads from one file and writes its content to another file ?\n",
    "\n",
    "# Open the source file for reading and the destination file for writing\n",
    "try:\n",
    "    with open(\"source.txt\", \"r\") as source_file:\n",
    "        with open(\"destination.txt\", \"w\") as dest_file:\n",
    "            content = source_file.read()  # Read all content from source file\n",
    "            dest_file.write(content)      # Write the content to destination file\n",
    "    print(\"Content successfully copied!\")\n",
    "except FileNotFoundError:\n",
    "    print(\"The source file does not exist.\")\n"
   ]
  },
  {
   "cell_type": "code",
   "execution_count": 160,
   "id": "a01c7355-f68c-40ef-b1a5-0a2c33c89e62",
   "metadata": {},
   "outputs": [
    {
     "name": "stdin",
     "output_type": "stream",
     "text": [
      "Enter the numerator:  4\n",
      "Enter the denominator:  0\n"
     ]
    },
    {
     "name": "stdout",
     "output_type": "stream",
     "text": [
      "Error: Cannot divide by zero.\n"
     ]
    }
   ],
   "source": [
    "# 5.  How would you catch and handle division by zero error in Python ?\n",
    "\n",
    "try:\n",
    "    numerator = float(input(\"Enter the numerator: \"))\n",
    "    denominator = float(input(\"Enter the denominator: \"))\n",
    "    result = numerator / denominator\n",
    "    print(\"The result is:\", result)\n",
    "except ZeroDivisionError:\n",
    "    print(\"Error: Cannot divide by zero.\")\n"
   ]
  },
  {
   "cell_type": "code",
   "execution_count": 46,
   "id": "c6c3ba2e-d7b8-42f3-8925-13148a2005e8",
   "metadata": {},
   "outputs": [
    {
     "name": "stdin",
     "output_type": "stream",
     "text": [
      "Enter the numerator:  45\n",
      "Enter the denominator:  0\n"
     ]
    },
    {
     "name": "stdout",
     "output_type": "stream",
     "text": [
      "Error: Cannot divide by zero.\n"
     ]
    }
   ],
   "source": [
    "# 6. Write a Python program that logs an error message to a log file when a division by zero exception occurs?\n",
    "\n",
    "import logging\n",
    "\n",
    "# Set up logging to log error messages to a file\n",
    "logging.basicConfig(filename='error_log.txt', level=logging.ERROR)\n",
    "\n",
    "try:\n",
    "    numerator = float(input(\"Enter the numerator: \"))\n",
    "    denominator = float(input(\"Enter the denominator: \"))\n",
    "    \n",
    "    # Perform the division\n",
    "    result = numerator / denominator\n",
    "    print(\"The result is:\", result)\n",
    "    \n",
    "except ZeroDivisionError as e:\n",
    "    # Log the error message to the file\n",
    "    logging.error(f\"Error: Division by zero. {e}\")\n",
    "    print(\"Error: Cannot divide by zero.\")\n"
   ]
  },
  {
   "cell_type": "code",
   "execution_count": 162,
   "id": "d0cb6c35-a76f-4fd2-960e-7365bd3eabc8",
   "metadata": {},
   "outputs": [],
   "source": [
    "# 7. How do you log information at different levels (INFO, ERROR, WARNING) in Python using the logging module ?\n",
    "\n",
    "import logging\n",
    "\n",
    "# Set up logging to log messages to a file\n",
    "logging.basicConfig(filename='example_log.txt', level=logging.DEBUG, format='%(asctime)s - %(levelname)s - %(message)s')\n",
    "\n",
    "# Log messages at different levels\n",
    "logging.debug(\"This is a debug message.\")  # For debugging purposes\n",
    "logging.info(\"This is an info message.\")   # Informational message\n",
    "logging.warning(\"This is a warning message.\")  # Warning message\n",
    "logging.error(\"This is an error message.\")  # Error message\n",
    "logging.critical(\"This is a critical message.\")  # Critical error\n"
   ]
  },
  {
   "cell_type": "code",
   "execution_count": 52,
   "id": "36369bb6-7a1b-4628-8f61-20a8405bc52b",
   "metadata": {},
   "outputs": [
    {
     "name": "stdout",
     "output_type": "stream",
     "text": [
      "Error: The file was not found. Please check the file name or path.\n"
     ]
    }
   ],
   "source": [
    "# 8. Write a program to handle a file opening error using exception handling ?\n",
    "\n",
    "try:\n",
    "    # Try to open a file in read mode\n",
    "    with open(\"non_existent_file.txt\", \"r\") as file:\n",
    "        content = file.read()\n",
    "        print(content)\n",
    "\n",
    "except FileNotFoundError:\n",
    "    print(\"Error: The file was not found. Please check the file name or path.\")\n",
    "\n",
    "except PermissionError:\n",
    "    print(\"Error: You do not have permission to access this file.\")\n",
    "\n",
    "except Exception as e:\n",
    "    print(f\"An unexpected error occurred: {e}\")\n"
   ]
  },
  {
   "cell_type": "code",
   "execution_count": 54,
   "id": "941d6592-0611-448a-98da-c3096ad4a6ff",
   "metadata": {},
   "outputs": [
    {
     "name": "stdout",
     "output_type": "stream",
     "text": [
      "['Hello, this is a test.']\n"
     ]
    }
   ],
   "source": [
    "# 9.  How can you read a file line by line and store its content in a list in Python?\n",
    "\n",
    "# Open the file in read mode\n",
    "with open(\"example.txt\", \"r\") as file:\n",
    "    # Read all lines and store them in a list\n",
    "    lines = file.readlines()\n",
    "\n",
    "# Print the list of lines\n",
    "print(lines)\n"
   ]
  },
  {
   "cell_type": "code",
   "execution_count": 148,
   "id": "b005110c-0370-435a-9c0c-b544a7705be3",
   "metadata": {},
   "outputs": [
    {
     "name": "stdout",
     "output_type": "stream",
     "text": [
      "Hello, this is a test.\n",
      "This is a new line added to the file.\n",
      "This is a new line added to the file.\n",
      "This is a new line added to the file.\n",
      "This is a new line added to the file.\n"
     ]
    }
   ],
   "source": [
    "# 10. How can you append data to an existing file in Python?\n",
    "\n",
    "# Append a new line to the file\n",
    "with open(\"example.txt\", \"a\") as file:\n",
    "    file.write(\"\\nThis is a new line added to the file.\")\n",
    "\n",
    "# Read the file to see the result\n",
    "with open(\"example.txt\", \"r\") as file:\n",
    "    contents = file.read()\n",
    "    print(contents)\n"
   ]
  },
  {
   "cell_type": "code",
   "execution_count": 58,
   "id": "000bdaf0-55a9-4457-a709-f9a448574f27",
   "metadata": {},
   "outputs": [
    {
     "name": "stdout",
     "output_type": "stream",
     "text": [
      "Error: The key 'address' does not exist in the dictionary.\n"
     ]
    }
   ],
   "source": [
    "# 11.  Write a Python program that uses a try-except block to handle an error when attempting to access a dictionary key that doesn't exist?\n",
    "\n",
    "# Define a dictionary\n",
    "my_dict = {\"name\": \"John\", \"age\": 30, \"city\": \"New York\"}\n",
    "\n",
    "# Try to access a key that might not exist\n",
    "try:\n",
    "    key_to_access = \"address\"\n",
    "    value = my_dict[key_to_access]\n",
    "    print(f\"The value for '{key_to_access}' is: {value}\")\n",
    "\n",
    "except KeyError:\n",
    "    print(f\"Error: The key '{key_to_access}' does not exist in the dictionary.\")\n"
   ]
  },
  {
   "cell_type": "code",
   "execution_count": 64,
   "id": "dc08841d-9272-4a90-b0de-7794366a2e31",
   "metadata": {},
   "outputs": [
    {
     "name": "stdin",
     "output_type": "stream",
     "text": [
      "Enter the first number:  565\n",
      "Enter the second number:  0\n"
     ]
    },
    {
     "name": "stdout",
     "output_type": "stream",
     "text": [
      "Error: Cannot divide by zero.\n"
     ]
    }
   ],
   "source": [
    "# 12.  Write a program that demonstrates using multiple except blocks to handle different types of exceptions?\n",
    "\n",
    "try:\n",
    "    # Try to get user input and perform different operations\n",
    "    num1 = int(input(\"Enter the first number: \"))\n",
    "    num2 = int(input(\"Enter the second number: \"))\n",
    "\n",
    "    # Attempt division\n",
    "    result = num1 / num2\n",
    "    print(f\"The result of {num1} / {num2} is: {result}\")\n",
    "    \n",
    "except ZeroDivisionError:\n",
    "    print(\"Error: Cannot divide by zero.\")\n",
    "\n",
    "except ValueError:\n",
    "    print(\"Error: Invalid input. Please enter a valid integer.\")\n",
    "\n",
    "except Exception as e:\n",
    "    print(f\"An unexpected error occurred: {e}\")"
   ]
  },
  {
   "cell_type": "code",
   "execution_count": 66,
   "id": "8cd8a5ff-a4f6-42f4-925d-959328e69a31",
   "metadata": {},
   "outputs": [
    {
     "name": "stdout",
     "output_type": "stream",
     "text": [
      "Hello, this is a test.\n",
      "This is a new line added to the file.\n"
     ]
    }
   ],
   "source": [
    "# 13. How would you check if a file exists before attempting to read it in Python?\n",
    "\n",
    "import os\n",
    "\n",
    "file_name = \"example.txt\"\n",
    "\n",
    "if os.path.exists(file_name):\n",
    "    with open(file_name, \"r\") as file:\n",
    "        content = file.read()\n",
    "        print(content)\n",
    "else:\n",
    "    print(f\"The file '{file_name}' does not exist.\")\n"
   ]
  },
  {
   "cell_type": "code",
   "execution_count": 164,
   "id": "be2d7e5a-4001-40f9-be3c-1090db3ea8d1",
   "metadata": {},
   "outputs": [
    {
     "name": "stdout",
     "output_type": "stream",
     "text": [
      "Log messages have been written to 'app_log.txt'.\n"
     ]
    }
   ],
   "source": [
    "# 14. Write a program that uses the logging module to log both informational and error messages\n",
    "\n",
    "import logging\n",
    "\n",
    "# Set up logging configuration\n",
    "logging.basicConfig(\n",
    "    filename='app_log.txt',   # Log file where messages will be saved\n",
    "    level=logging.DEBUG,      # Capture all levels (DEBUG, INFO, WARNING, ERROR, CRITICAL)\n",
    "    format='%(asctime)s - %(levelname)s - %(message)s'  # Log format with timestamp, log level, and message\n",
    ")\n",
    "\n",
    "# Log an informational message\n",
    "logging.info(\"This is an informational message.\")\n",
    "\n",
    "# Log an error message\n",
    "logging.error(\"This is an error message.\")\n",
    "\n",
    "# Simulating an exception to log an error message\n",
    "try:\n",
    "    result = 10 / 0  # This will raise a ZeroDivisionError\n",
    "except ZeroDivisionError as e:\n",
    "    logging.error(f\"An error occurred: {e}\")\n",
    "\n",
    "# Verify that the messages are logged by printing a success message in the console\n",
    "print(\"Log messages have been written to 'app_log.txt'.\")"
   ]
  },
  {
   "cell_type": "code",
   "execution_count": 72,
   "id": "34eec5ec-d480-443c-9554-246d057d9a14",
   "metadata": {},
   "outputs": [
    {
     "name": "stdout",
     "output_type": "stream",
     "text": [
      "File content:\n",
      "Hello, this is a test.\n",
      "This is a new line added to the file.\n"
     ]
    }
   ],
   "source": [
    "# 15.  Write a Python program that prints the content of a file and handles the case when the file is empty\n",
    "\n",
    "def print_file_content(file_name):\n",
    "    try:\n",
    "        # Open the file in read mode\n",
    "        with open(file_name, 'r') as file:\n",
    "            content = file.read()\n",
    "            \n",
    "            # Check if the file is empty\n",
    "            if content:\n",
    "                print(\"File content:\")\n",
    "                print(content)\n",
    "            else:\n",
    "                print(\"The file is empty.\")\n",
    "                \n",
    "    except FileNotFoundError:\n",
    "        print(f\"Error: The file '{file_name}' was not found.\")\n",
    "    except Exception as e:\n",
    "        print(f\"An unexpected error occurred: {e}\")\n",
    "\n",
    "# Specify the file name\n",
    "file_name = 'example.txt'\n",
    "\n",
    "# Call the function to print file content\n",
    "print_file_content(file_name)\n"
   ]
  },
  {
   "cell_type": "code",
   "execution_count": 115,
   "id": "56f4be08-6116-423d-8f9e-230383c30172",
   "metadata": {},
   "outputs": [],
   "source": [
    "# 16. Demonstrate how to use memory profiling to check the memory usage of a small program"
   ]
  },
  {
   "cell_type": "markdown",
   "id": "73fdfa42-a969-4055-b940-87206e6e46bf",
   "metadata": {},
   "source": [
    " Step 1: Install memory_profiler\n",
    "\n",
    "You must install the memory_profiler package before running the program:"
   ]
  },
  {
   "cell_type": "code",
   "execution_count": null,
   "id": "54757324-9dd2-4f20-8804-4a3337103e5d",
   "metadata": {},
   "outputs": [],
   "source": [
    "pip install memory-profiler\n"
   ]
  },
  {
   "cell_type": "markdown",
   "id": "3ab23f02-13ca-4561-8b9c-649222a41907",
   "metadata": {},
   "source": [
    "Step 2: Save this Python code into a file (e.g., memory_check.py)"
   ]
  },
  {
   "cell_type": "code",
   "execution_count": null,
   "id": "e4b9ca9f-64ac-4017-bf33-9670f736e750",
   "metadata": {},
   "outputs": [],
   "source": [
    "from memory_profiler import profile\n",
    "\n",
    "@profile\n",
    "def create_large_list():\n",
    "    data = []\n",
    "    for i in range(10000):\n",
    "        data.append(i ** 2)  # Squaring each number\n",
    "    return data\n",
    "\n",
    "if __name__ == \"__main__\":\n",
    "    result = create_large_list()\n",
    "    print(\"List created with\", len(result), \"items.\")\n"
   ]
  },
  {
   "cell_type": "markdown",
   "id": "df54b590-3307-49ac-88c7-5c1192620170",
   "metadata": {},
   "source": [
    "Step 3: Run the script with memory profiling\n",
    "\n",
    "Use this command in your terminal to see memory usage line by line:"
   ]
  },
  {
   "cell_type": "code",
   "execution_count": null,
   "id": "24f6c3e5-cd1e-4732-a003-1782ff81ee16",
   "metadata": {},
   "outputs": [],
   "source": [
    "python -m memory_profiler memory_check.py\n"
   ]
  },
  {
   "cell_type": "code",
   "execution_count": 124,
   "id": "bcb6ae66-7c4b-4c96-ab32-2d1539938632",
   "metadata": {},
   "outputs": [
    {
     "name": "stdout",
     "output_type": "stream",
     "text": [
      "Numbers written to 'numbers.txt' successfully.\n"
     ]
    }
   ],
   "source": [
    "# 17. Write a Python program to create and write a list of numbers to a file, one number per line.\n",
    "\n",
    "# List of numbers to write\n",
    "numbers = [10, 20, 30, 40, 50]\n",
    "\n",
    "# Open a file in write mode\n",
    "with open('numbers.txt', 'w') as file:\n",
    "    for number in numbers:\n",
    "        file.write(str(number) + '\\n')  # Write each number on a new line\n",
    "\n",
    "print(\"Numbers written to 'numbers.txt' successfully.\")\n"
   ]
  },
  {
   "cell_type": "code",
   "execution_count": 126,
   "id": "2face74e-783e-4040-acb7-a0495a0eb121",
   "metadata": {},
   "outputs": [],
   "source": [
    "# 18. How would you implement a basic logging setup that logs to a file with rotation after 1MB?\n",
    "\n",
    "import logging\n",
    "from logging.handlers import RotatingFileHandler\n",
    "\n",
    "# Set up a RotatingFileHandler\n",
    "log_file = 'app.log'\n",
    "handler = RotatingFileHandler(log_file, maxBytes=1_000_000, backupCount=3)  # Rotate after 1MB, keep 3 backups\n",
    "\n",
    "# Create a basic logging configuration\n",
    "logging.basicConfig(\n",
    "    level=logging.INFO,\n",
    "    format='%(asctime)s - %(levelname)s - %(message)s',\n",
    "    handlers=[handler]\n",
    ")\n",
    "\n",
    "# Example logs\n",
    "for i in range(10000):\n",
    "    logging.info(f\"This is log message number {i}\")\n"
   ]
  },
  {
   "cell_type": "markdown",
   "id": "ec587dd5-8151-47fc-81f9-58ee0c4763d8",
   "metadata": {},
   "source": [
    " # What this does:\n",
    "\n",
    "  - maxBytes=1_000_000 → Rotates the file when it exceeds 1MB.\n",
    "\n",
    "  - backupCount=3 → Keeps up to 3 backup files: app.log.1, app.log.2, etc.\n",
    "\n",
    "  - handlers=[handler] → Directs logs to the rotating file handler.\n"
   ]
  },
  {
   "cell_type": "code",
   "execution_count": 130,
   "id": "df294b9e-29a7-4a11-b2df-3330be69c7c2",
   "metadata": {},
   "outputs": [
    {
     "name": "stdout",
     "output_type": "stream",
     "text": [
      "Caught an IndexError: List index out of range.\n"
     ]
    }
   ],
   "source": [
    "# 19. Write a program that handles both IndexError and KeyError using a try-except block.\n",
    "\n",
    "my_list = [1, 2, 3]\n",
    "my_dict = {'a': 100, 'b': 200}\n",
    "\n",
    "try:\n",
    "    # Attempt to access an index that doesn't exist\n",
    "    print(\"List item:\", my_list[5])\n",
    "\n",
    "    # Attempt to access a key that doesn't exist\n",
    "    print(\"Dict item:\", my_dict['z'])\n",
    "\n",
    "except IndexError:\n",
    "    print(\"Caught an IndexError: List index out of range.\")\n",
    "\n",
    "except KeyError:\n",
    "    print(\"Caught a KeyError: Key not found in dictionary.\")\n"
   ]
  },
  {
   "cell_type": "code",
   "execution_count": 132,
   "id": "f243831a-2cea-48e1-890f-e88d98ac36f6",
   "metadata": {},
   "outputs": [
    {
     "name": "stdout",
     "output_type": "stream",
     "text": [
      "Hello, this is a test.\n",
      "This is a new line added to the file.\n"
     ]
    }
   ],
   "source": [
    "# 20. How would you open a file and read its contents using a context manager in Python ?\n",
    "\n",
    "# Open the file and read its contents using a context manager\n",
    "with open('example.txt', 'r') as file:\n",
    "    contents = file.read()\n",
    "    print(contents)\n"
   ]
  },
  {
   "cell_type": "code",
   "execution_count": 136,
   "id": "c5f24d02-7092-4e23-a6c8-2b3c25c39e51",
   "metadata": {},
   "outputs": [
    {
     "name": "stdout",
     "output_type": "stream",
     "text": [
      "The word 'python' appears 3 times in the file.\n"
     ]
    }
   ],
   "source": [
    "# 21.  Write a Python program that reads a file and prints the number of occurrences of a specific word.\n",
    "\n",
    "# Step 1: Create and write content to the file\n",
    "with open('sample.txt', 'w') as file:\n",
    "    file.write(\"Python is easy to learn. python is popular. Many developers love Python!\")\n",
    "\n",
    "# Step 2: Define the word to count\n",
    "word_to_count = \"python\"\n",
    "\n",
    "# Step 3: Open and read the file content\n",
    "with open('sample.txt', 'r') as file:\n",
    "    content = file.read().lower()  # Lowercase for case-insensitive match\n",
    "\n",
    "# Step 4: Count the word occurrences\n",
    "word_count = content.count(word_to_count.lower())\n",
    "\n",
    "# Step 5: Print the result\n",
    "print(f\"The word '{word_to_count}' appears {word_count} times in the file.\")\n"
   ]
  },
  {
   "cell_type": "code",
   "execution_count": 138,
   "id": "208d8efc-4695-441b-8b99-ab35aa23f5cc",
   "metadata": {},
   "outputs": [
    {
     "name": "stdout",
     "output_type": "stream",
     "text": [
      "File content:\n",
      " Hello, this is a test.\n",
      "This is a new line added to the file.\n"
     ]
    }
   ],
   "source": [
    "# 22.  How can you check if a file is empty before attempting to read its contents ?\n",
    "\n",
    "import os\n",
    "\n",
    "file_path = 'example.txt'\n",
    "\n",
    "# Check if file exists and is empty\n",
    "if os.path.exists(file_path) and os.path.getsize(file_path) == 0:\n",
    "    print(\"The file is empty.\")\n",
    "else:\n",
    "    with open(file_path, 'r') as file:\n",
    "        content = file.read()\n",
    "        print(\"File content:\\n\", content)\n"
   ]
  },
  {
   "cell_type": "code",
   "execution_count": 8,
   "id": "9a455577-dbc8-40b5-857e-325e39d901c2",
   "metadata": {},
   "outputs": [
    {
     "name": "stdout",
     "output_type": "stream",
     "text": [
      "Hello, this is a test.\n"
     ]
    }
   ],
   "source": [
    "# 23.  Write a Python program that writes to a log file when an error occurs during file handling.\n",
    "\n",
    "try:\n",
    "    with open(\"example.txt\", \"r\") as f:\n",
    "        print(f.read())\n",
    "except Exception as e:\n",
    "    with open(\"log.txt\", \"a\") as log:\n",
    "        log.write(f\"Error: {e}\\n\")\n",
    "\n",
    "\n"
   ]
  },
  {
   "cell_type": "code",
   "execution_count": null,
   "id": "b5f2a400-9eb8-489a-a2e5-54e8eb28fbfc",
   "metadata": {},
   "outputs": [],
   "source": []
  }
 ],
 "metadata": {
  "kernelspec": {
   "display_name": "Python [conda env:base] *",
   "language": "python",
   "name": "conda-base-py"
  },
  "language_info": {
   "codemirror_mode": {
    "name": "ipython",
    "version": 3
   },
   "file_extension": ".py",
   "mimetype": "text/x-python",
   "name": "python",
   "nbconvert_exporter": "python",
   "pygments_lexer": "ipython3",
   "version": "3.12.7"
  }
 },
 "nbformat": 4,
 "nbformat_minor": 5
}
